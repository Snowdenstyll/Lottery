{
  "cells": [
    {
      "cell_type": "markdown",
      "metadata": {
        "colab_type": "text",
        "id": "view-in-github"
      },
      "source": [
        "<a href=\"https://colab.research.google.com/github/Snowdenstyll/keno/blob/main/Lottario.ipynb\" target=\"_parent\"><img src=\"https://colab.research.google.com/assets/colab-badge.svg\" alt=\"Open In Colab\"/></a>"
      ]
    },
    {
      "cell_type": "code",
      "execution_count": null,
      "metadata": {
        "id": "cqI3K4Z1_9y_"
      },
      "outputs": [
        {
          "ename": "",
          "evalue": "",
          "output_type": "error",
          "traceback": [
            "\u001b[1;31mRunning cells with 'Python 3.11.1' requires the ipykernel package.\n",
            "\u001b[1;31mRun the following command to install 'ipykernel' into the Python environment. \n",
            "\u001b[1;31mCommand: 'c:/Python311/python.exe -m pip install ipykernel -U --user --force-reinstall'"
          ]
        }
      ],
      "source": [
        "import numpy as np\n",
        "import pandas as pd\n",
        "from sklearn.preprocessing import StandardScaler"
      ]
    },
    {
      "cell_type": "code",
      "execution_count": null,
      "metadata": {
        "id": "hcU8I8YcA5-E"
      },
      "outputs": [
        {
          "ename": "",
          "evalue": "",
          "output_type": "error",
          "traceback": [
            "\u001b[1;31mRunning cells with 'Python 3.11.1' requires the ipykernel package.\n",
            "\u001b[1;31mRun the following command to install 'ipykernel' into the Python environment. \n",
            "\u001b[1;31mCommand: 'c:/Python311/python.exe -m pip install ipykernel -U --user --force-reinstall'"
          ]
        }
      ],
      "source": [
        "df = pd.read_csv(\"master.csv\")"
      ]
    },
    {
      "cell_type": "code",
      "execution_count": null,
      "metadata": {
        "colab": {
          "base_uri": "https://localhost:8080/"
        },
        "id": "HjWDe-HI_9zD",
        "outputId": "2bdd4f95-0bf3-4a16-8079-9c81ce1744ba"
      },
      "outputs": [
        {
          "ename": "",
          "evalue": "",
          "output_type": "error",
          "traceback": [
            "\u001b[1;31mRunning cells with 'Python 3.11.1' requires the ipykernel package.\n",
            "\u001b[1;31mRun the following command to install 'ipykernel' into the Python environment. \n",
            "\u001b[1;31mCommand: 'c:/Python311/python.exe -m pip install ipykernel -U --user --force-reinstall'"
          ]
        }
      ],
      "source": [
        "df.head()\n",
        "df.tail()\n",
        "df.info()\n",
        "df.describe()\n",
        "df.drop(['PlayDate'], axis=1, inplace=True)"
      ]
    },
    {
      "cell_type": "code",
      "execution_count": null,
      "metadata": {
        "id": "IFxUoUUa_9zG"
      },
      "outputs": [
        {
          "ename": "",
          "evalue": "",
          "output_type": "error",
          "traceback": [
            "\u001b[1;31mRunning cells with 'Python 3.11.1' requires the ipykernel package.\n",
            "\u001b[1;31mRun the following command to install 'ipykernel' into the Python environment. \n",
            "\u001b[1;31mCommand: 'c:/Python311/python.exe -m pip install ipykernel -U --user --force-reinstall'"
          ]
        }
      ],
      "source": [
        "scaler = StandardScaler().fit(df.values)\n",
        "transformed_dataset = scaler.transform(df.values)\n",
        "transformed_df = pd.DataFrame(data=transformed_dataset, index=df.index)"
      ]
    },
    {
      "cell_type": "markdown",
      "metadata": {
        "id": "_cfp54qRUovB"
      },
      "source": []
    },
    {
      "cell_type": "code",
      "execution_count": null,
      "metadata": {
        "id": "VO8P7MGA_9zI"
      },
      "outputs": [
        {
          "ename": "",
          "evalue": "",
          "output_type": "error",
          "traceback": [
            "\u001b[1;31mRunning cells with 'Python 3.11.1' requires the ipykernel package.\n",
            "\u001b[1;31mRun the following command to install 'ipykernel' into the Python environment. \n",
            "\u001b[1;31mCommand: 'c:/Python311/python.exe -m pip install ipykernel -U --user --force-reinstall'"
          ]
        }
      ],
      "source": [
        "# All our games\n",
        "number_of_rows = df.values.shape[0]\n",
        "# Amount of games we need to take into consideration for prediction\n",
        "window_length = 7\n",
        "number_of_features = df.values.shape[1]\n",
        "\n",
        "X = np.empty([ number_of_rows - window_length, window_length, number_of_features], dtype=float)\n",
        "y = np.empty([ number_of_rows - window_length, number_of_features], dtype=float)\n"
      ]
    },
    {
      "cell_type": "code",
      "execution_count": null,
      "metadata": {
        "id": "W8Od3t8__9zK"
      },
      "outputs": [
        {
          "ename": "",
          "evalue": "",
          "output_type": "error",
          "traceback": [
            "\u001b[1;31mRunning cells with 'Python 3.11.1' requires the ipykernel package.\n",
            "\u001b[1;31mRun the following command to install 'ipykernel' into the Python environment. \n",
            "\u001b[1;31mCommand: 'c:/Python311/python.exe -m pip install ipykernel -U --user --force-reinstall'"
          ]
        }
      ],
      "source": [
        "for i in range(0, number_of_rows-window_length):\n",
        "    X[i] = transformed_df.iloc[i : i+window_length, 0 : number_of_features]\n",
        "    y[i] = transformed_df.iloc[i+window_length : i+window_length+1, 0 : number_of_features]"
      ]
    },
    {
      "cell_type": "code",
      "execution_count": null,
      "metadata": {
        "id": "b9d815xa_9zN"
      },
      "outputs": [
        {
          "ename": "",
          "evalue": "",
          "output_type": "error",
          "traceback": [
            "\u001b[1;31mRunning cells with 'Python 3.11.1' requires the ipykernel package.\n",
            "\u001b[1;31mRun the following command to install 'ipykernel' into the Python environment. \n",
            "\u001b[1;31mCommand: 'c:/Python311/python.exe -m pip install ipykernel -U --user --force-reinstall'"
          ]
        }
      ],
      "source": [
        "# Recurrent Neural Netowrk (RNN) with Long Short Term Memory (LSTM)\n",
        "# Importing the Keras libraries and packages\n",
        "from keras.models import Sequential\n",
        "from keras.layers import LSTM, Dense, Bidirectional, Dropout\n",
        "#batch_size = 40\n",
        "batch_size = 100\n",
        "\n",
        "# Initialising the RNN\n",
        "model = Sequential()\n",
        "# Adding the input layer and the LSTM layer\n",
        "model.add(Bidirectional(LSTM(256,\n",
        "                        input_shape = (window_length, number_of_features),\n",
        "                        return_sequences = True)))\n",
        "# Adding a first Dropout layer\n",
        "model.add(Dropout(0.2))\n",
        "# Adding a second LSTM layer\n",
        "model.add(Bidirectional(LSTM(256,\n",
        "                        input_shape = (window_length, number_of_features),\n",
        "                        return_sequences = True)))\n",
        "# Adding a second Dropout layer\n",
        "model.add(Dropout(0.2))\n",
        "# Adding a third LSTM layer\n",
        "model.add(Bidirectional(LSTM(256,\n",
        "                        input_shape = (window_length, number_of_features),\n",
        "                        return_sequences = True)))\n",
        "# Adding a fourth LSTM layer\n",
        "model.add(Bidirectional(LSTM(256,\n",
        "                        input_shape = (window_length, number_of_features),\n",
        "                        return_sequences = False)))\n",
        "# Adding a fourth Dropout layer\n",
        "model.add(Dropout(0.2))\n",
        "# Adding the first output layer\n",
        "model.add(Dense(6))\n",
        "# Adding the last output layer\n",
        "model.add(Dense(number_of_features))"
      ]
    },
    {
      "cell_type": "code",
      "execution_count": null,
      "metadata": {
        "colab": {
          "base_uri": "https://localhost:8080/"
        },
        "id": "bE0G1oQc_9zN",
        "outputId": "521d2cd6-dfa9-40aa-8892-b35665fa7ee8"
      },
      "outputs": [
        {
          "ename": "",
          "evalue": "",
          "output_type": "error",
          "traceback": [
            "\u001b[1;31mRunning cells with 'Python 3.11.1' requires the ipykernel package.\n",
            "\u001b[1;31mRun the following command to install 'ipykernel' into the Python environment. \n",
            "\u001b[1;31mCommand: 'c:/Python311/python.exe -m pip install ipykernel -U --user --force-reinstall'"
          ]
        }
      ],
      "source": [
        "from tensorflow import keras\n",
        "from tensorflow.keras.optimizers import Adam\n",
        "from sklearn.model_selection import train_test_split\n",
        "\n",
        "model.compile(optimizer=Adam(learning_rate=0.0001), loss ='mse', metrics=['accuracy'])\n",
        "\n",
        "X_train, X_test, y_train, y_test = train_test_split(X, y, test_size=0.95, random_state=95)\n",
        "\n",
        "# Train the model\n",
        "history = model.fit(X, y, batch_size=batch_size, epochs=1000, verbose=2)\n",
        "#history = model.fit(X_train, y_train, batch_size=100, epochs=600, verbose=2)"
      ]
    },
    {
      "cell_type": "code",
      "execution_count": null,
      "metadata": {
        "colab": {
          "base_uri": "https://localhost:8080/"
        },
        "id": "pUeOIrVQ8042",
        "outputId": "0c2b6922-5ade-4741-fadf-242981e1bf14"
      },
      "outputs": [
        {
          "ename": "",
          "evalue": "",
          "output_type": "error",
          "traceback": [
            "\u001b[1;31mRunning cells with 'Python 3.11.1' requires the ipykernel package.\n",
            "\u001b[1;31mRun the following command to install 'ipykernel' into the Python environment. \n",
            "\u001b[1;31mCommand: 'c:/Python311/python.exe -m pip install ipykernel -U --user --force-reinstall'"
          ]
        }
      ],
      "source": [
        "loss, accuracy = model.evaluate(X, y, verbose=1)\n",
        "print(f'Test Loss: {loss}, Test Accuracy: {accuracy}')\n",
        "\n",
        "loss, accuracy = model.evaluate(X_test, y_test, verbose=1)\n",
        "print(f'Test Loss: {loss}, Test Accuracy: {accuracy}')"
      ]
    },
    {
      "cell_type": "code",
      "execution_count": null,
      "metadata": {
        "id": "AlnCW2T1OxEx"
      },
      "outputs": [
        {
          "ename": "",
          "evalue": "",
          "output_type": "error",
          "traceback": [
            "\u001b[1;31mRunning cells with 'Python 3.11.1' requires the ipykernel package.\n",
            "\u001b[1;31mRun the following command to install 'ipykernel' into the Python environment. \n",
            "\u001b[1;31mCommand: 'c:/Python311/python.exe -m pip install ipykernel -U --user --force-reinstall'"
          ]
        }
      ],
      "source": [
        "#history = model.fit(X_train, y_train, batch_size=50, epochs=100, verbose=2)\n",
        "#history = model.fit(X_train, y_train, batch_size=50, epochs=100, verbose=2)"
      ]
    },
    {
      "cell_type": "code",
      "execution_count": null,
      "metadata": {
        "colab": {
          "base_uri": "https://localhost:8080/",
          "height": 53
        },
        "id": "_IiNPiWro4Hh",
        "outputId": "7ea8b0cf-3cf3-4741-bffb-b41cc83aa4d3"
      },
      "outputs": [
        {
          "ename": "",
          "evalue": "",
          "output_type": "error",
          "traceback": [
            "\u001b[1;31mRunning cells with 'Python 3.11.1' requires the ipykernel package.\n",
            "\u001b[1;31mRun the following command to install 'ipykernel' into the Python environment. \n",
            "\u001b[1;31mCommand: 'c:/Python311/python.exe -m pip install ipykernel -U --user --force-reinstall'"
          ]
        }
      ],
      "source": [
        "''' import datetime\n",
        "import pytz\n",
        "\n",
        "# Get the current time in a specific timezone\n",
        "tz = pytz.timezone('America/New_York')\n",
        "current_day = datetime.datetime.now(tz)\n",
        "\n",
        "time_label = \"Midday\" if (current_day.hour <= 14) else \"Evening\"\n",
        "\n",
        "label = current_day.strftime(\"%Y_%m_%d_\") + time_label\n",
        "model.save(f'Models/{label}.keras')\n",
        "print(\"saved model\") '''"
      ]
    },
    {
      "cell_type": "code",
      "execution_count": null,
      "metadata": {
        "colab": {
          "base_uri": "https://localhost:8080/",
          "height": 324
        },
        "id": "Jt2Btz2P_9zO",
        "outputId": "243df528-4c89-410e-f9e0-038e4688b4cf"
      },
      "outputs": [
        {
          "ename": "",
          "evalue": "",
          "output_type": "error",
          "traceback": [
            "\u001b[1;31mRunning cells with 'Python 3.11.1' requires the ipykernel package.\n",
            "\u001b[1;31mRun the following command to install 'ipykernel' into the Python environment. \n",
            "\u001b[1;31mCommand: 'c:/Python311/python.exe -m pip install ipykernel -U --user --force-reinstall'"
          ]
        }
      ],
      "source": [
        "df1 = df.copy()\n",
        "to_predict = df1.tail(window_length)\n",
        "to_predict.drop([to_predict.index[-1]],axis=0, inplace=True)\n",
        "to_predict"
      ]
    },
    {
      "cell_type": "code",
      "execution_count": null,
      "metadata": {
        "colab": {
          "base_uri": "https://localhost:8080/"
        },
        "id": "H5frjfOID1el",
        "outputId": "1295271d-7c84-41bc-cddd-b615d7ecdcd9"
      },
      "outputs": [
        {
          "ename": "",
          "evalue": "",
          "output_type": "error",
          "traceback": [
            "\u001b[1;31mRunning cells with 'Python 3.11.1' requires the ipykernel package.\n",
            "\u001b[1;31mRun the following command to install 'ipykernel' into the Python environment. \n",
            "\u001b[1;31mCommand: 'c:/Python311/python.exe -m pip install ipykernel -U --user --force-reinstall'"
          ]
        }
      ],
      "source": [
        "prediction = np.array(df.tail(1))\n",
        "\n",
        "x_next = scaler.transform(to_predict)\n",
        "y_pred = model.predict(np.array([x_next]))\n",
        "\n",
        "temp = np.array(np.unique(scaler.inverse_transform(y_pred).astype(int)[0]))\n",
        "combined_array = np.concatenate((temp, np.array(prediction[0])))\n",
        "winning_numbers = np.bincount(combined_array)\n",
        "winners = np.unique(combined_array)\n",
        "\n",
        "uniques, uniq_idx, counts = np.unique(combined_array,return_index=True,return_counts=True)\n",
        "duplicates = combined_array[uniq_idx[counts>=2] ]  # <--- Get duplicates\n",
        "\n",
        "top_5_indices = np.argsort(y_pred[0], axis=0)[::-1][:-10]\n",
        "top_5_numbers = []\n",
        "\n",
        "winning_indices = np.where(np.isin(prediction[0], duplicates))[0]\n",
        "\n",
        "# Print the winning indices\n",
        "print(\"The winning indices:\", winning_indices)\n",
        "\n",
        "for index in top_5_indices:\n",
        "    # Access the corresponding number in the top_10_predictions array\n",
        "    number = prediction[0, index]\n",
        "    # Append the number to the top_5_numbers array\n",
        "    top_5_numbers.append(number)\n",
        "\n",
        "print(\"The top 5 indices:\", top_5_indices)\n",
        "print(\"The top 5 numbers:\", top_5_numbers)\n",
        "\n",
        "print(\"The predicted numbers for the lottery game are:  \", temp)\n",
        "print(\"The actual numbers in the last lottery game were:\", prediction[0])\n",
        "print(\"\\n\")\n",
        "print(\"winners:\", duplicates)\n",
        "print(len(duplicates)/20)\n"
      ]
    },
    {
      "cell_type": "markdown",
      "metadata": {
        "id": "9dNEQTJYxOUv"
      },
      "source": [
        "# Predict the next set of numbers"
      ]
    },
    {
      "cell_type": "code",
      "execution_count": null,
      "metadata": {
        "colab": {
          "base_uri": "https://localhost:8080/"
        },
        "id": "NzGKPd0S66O8",
        "outputId": "d8d72932-e6dc-4100-c644-455b8295bc57"
      },
      "outputs": [
        {
          "ename": "",
          "evalue": "",
          "output_type": "error",
          "traceback": [
            "\u001b[1;31mRunning cells with 'Python 3.11.1' requires the ipykernel package.\n",
            "\u001b[1;31mRun the following command to install 'ipykernel' into the Python environment. \n",
            "\u001b[1;31mCommand: 'c:/Python311/python.exe -m pip install ipykernel -U --user --force-reinstall'"
          ]
        }
      ],
      "source": [
        "next = df.copy()\n",
        "next = next.tail(window_length)\n",
        "next = np.array(next)\n",
        "\n",
        "x_next = scaler.transform(next)\n",
        "y_next_pred = model.predict(np.array([x_next]))\n",
        "prediction = scaler.inverse_transform(y_next_pred).astype(int)\n",
        "print(\"The predicted numbers for the lottery game:\", temp)\n",
        "print(\"\\n\")\n",
        "top_5_indices = np.argsort(y_next_pred[0], axis=0)[::-1][:5]\n",
        "top_5_numbers = []\n",
        "for index in top_5_indices:\n",
        "    # Access the corresponding number in the top_10_predictions array\n",
        "    number = prediction[0, index]\n",
        "    # Append the number to the top_5_numbers array\n",
        "    top_5_numbers.append(number)\n",
        "\n",
        "print(\"The top 5 indices\", top_5_indices)\n",
        "print(\"The top 5 numbers:\", top_5_numbers)\n",
        "print(\"\\n\")\n",
        "\n",
        "winning_numbers = []\n",
        "for index in winning_indices:\n",
        "    # Access the corresponding number in the top_10_predictions array\n",
        "    number = prediction[0, index]\n",
        "    # Append the number to the top_5_numbers array\n",
        "    winning_numbers.append(number)\n",
        "\n",
        "top_10_indices = np.argsort(y_next_pred[0], axis=0)[::-1][:10]\n",
        "top_10_numbers = []\n",
        "for index in top_10_indices:\n",
        "    # Access the corresponding number in the top_10_predictions array\n",
        "    number = prediction[0, index]\n",
        "\n",
        "    # Append the number to the top_10_numbers array\n",
        "    top_10_numbers.append(number)\n",
        "print(\"The top 10 indices\", top_10_indices)\n",
        "print(\"The top 10 numbers:\", top_10_numbers)\n",
        "print(\"\\n\")\n",
        "\n",
        "print(\"winning indices\", winning_indices)\n",
        "print(\"winning numbers\", winning_numbers)\n"
      ]
    },
    {
      "cell_type": "code",
      "execution_count": null,
      "metadata": {
        "colab": {
          "base_uri": "https://localhost:8080/"
        },
        "id": "KcOnZYU7JkMG",
        "outputId": "a3cf0610-503e-426c-fafe-1f9362f4433d"
      },
      "outputs": [
        {
          "ename": "",
          "evalue": "",
          "output_type": "error",
          "traceback": [
            "\u001b[1;31mRunning cells with 'Python 3.11.1' requires the ipykernel package.\n",
            "\u001b[1;31mRun the following command to install 'ipykernel' into the Python environment. \n",
            "\u001b[1;31mCommand: 'c:/Python311/python.exe -m pip install ipykernel -U --user --force-reinstall'"
          ]
        }
      ],
      "source": [
        "next = df.copy()\n",
        "next = next.tail(1)\n",
        "next = np.array(next)\n",
        "\n",
        "x_next = scaler.transform(next)\n",
        "y_next_pred = model.predict(np.array([x_next]))\n",
        "\n",
        "# Get the actual values of the top 10 predictions\n",
        "prediction = scaler.inverse_transform(y_next_pred).astype(int)\n",
        "\n",
        "# Get the indices of the top 10 predictions (change axis=0 if predictions are along a different axis)\n",
        "top_10_indices = np.argsort(y_next_pred[0], axis=0)[::-1][:10]\n",
        "top_5_indices = np.argsort(y_next_pred[0], axis=0)[::-1][:5]\n",
        "\n",
        "top_10_numbers = []\n",
        "top_5_numbers = []\n",
        "\n",
        "# index [0,2,4] usually are correct\n",
        "# Loop through each index in top_10_indices\n",
        "for index in top_10_indices:\n",
        "    # Access the corresponding number in the top_10_predictions array\n",
        "    number = prediction[0, index]\n",
        "\n",
        "    # Append the number to the top_10_numbers array\n",
        "    top_10_numbers.append(number)\n",
        "\n",
        "for index in top_5_indices:\n",
        "    # Access the corresponding number in the top_10_predictions array\n",
        "    number = prediction[0, index]\n",
        "\n",
        "    # Append the number to the top_10_numbers array\n",
        "    top_5_numbers.append(number)\n",
        "\n",
        "winning_numbers = []\n",
        "for index in winning_indices:\n",
        "    # Access the corresponding number in the top_10_predictions array\n",
        "    number = prediction[0, index]\n",
        "    # Append the number to the top_5_numbers array\n",
        "    winning_numbers.append(number)\n",
        "\n",
        "\n",
        "print(\"The top 5 indices\", top_5_indices)\n",
        "print(\"The top 5 numbers:\", top_5_numbers)\n",
        "print(\"\\n\")\n",
        "\n",
        "print(\"The top 10 indices\", top_10_indices)\n",
        "print(\"The top 10 numbers:\", top_10_numbers)\n",
        "print(\"\\n\")\n",
        "\n",
        "print(\"winning indices\", winning_indices)\n",
        "print(\"winning numbers\", winning_numbers)\n",
        "print(\"\\n\")\n",
        "\n",
        "print(\"The predicted numbers:\", prediction)\n"
      ]
    },
    {
      "cell_type": "markdown",
      "metadata": {
        "id": "0DAaBNpKuizV"
      },
      "source": []
    }
  ],
  "metadata": {
    "accelerator": "GPU",
    "colab": {
      "gpuType": "T4",
      "include_colab_link": true,
      "provenance": []
    },
    "kernelspec": {
      "display_name": "Python 3",
      "name": "python3"
    },
    "language_info": {
      "codemirror_mode": {
        "name": "ipython",
        "version": 3
      },
      "file_extension": ".py",
      "mimetype": "text/x-python",
      "name": "python",
      "nbconvert_exporter": "python",
      "pygments_lexer": "ipython3",
      "version": "3.11.1"
    }
  },
  "nbformat": 4,
  "nbformat_minor": 0
}
